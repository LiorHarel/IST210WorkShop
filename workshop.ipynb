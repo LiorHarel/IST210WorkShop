{
  "nbformat": 4,
  "nbformat_minor": 0,
  "metadata": {
    "colab": {
      "name": "workshop.ipynb",
      "provenance": []
    },
    "kernelspec": {
      "name": "python3",
      "display_name": "Python 3"
    }
  },
  "cells": [
    {
      "cell_type": "markdown",
      "metadata": {
        "id": "oQdJ9xDL2rJS",
        "colab_type": "text"
      },
      "source": [
        ""
      ]
    },
    {
      "cell_type": "code",
      "metadata": {
        "id": "zXB7so3k06oa",
        "colab_type": "code",
        "colab": {}
      },
      "source": [
        ""
      ],
      "execution_count": 0,
      "outputs": []
    },
    {
      "cell_type": "markdown",
      "metadata": {
        "id": "ZSxozu-L1Ul0",
        "colab_type": "text"
      },
      "source": [
        "![hjhjhjhjhj](https://raw.githubusercontent.com/LiorHarel/IST210WorkShop/master/Untitled%20Diagram.png)\n",
        "\n"
      ]
    },
    {
      "cell_type": "code",
      "metadata": {
        "id": "JL9ozGos2TxC",
        "colab_type": "code",
        "colab": {
          "base_uri": "https://localhost:8080/",
          "height": 201
        },
        "outputId": "94db6946-9d89-492c-8760-b20bb9b1acbb"
      },
      "source": [
        "for i in range(10):\n",
        "  print (\"Doba is:.\")"
      ],
      "execution_count": 9,
      "outputs": [
        {
          "output_type": "stream",
          "text": [
            "Doba is:.\n",
            "Doba is:.\n",
            "Doba is:.\n",
            "Doba is:.\n",
            "Doba is:.\n",
            "Doba is:.\n",
            "Doba is:.\n",
            "Doba is:.\n",
            "Doba is:.\n",
            "Doba is:.\n"
          ],
          "name": "stdout"
        }
      ]
    }
  ]
}